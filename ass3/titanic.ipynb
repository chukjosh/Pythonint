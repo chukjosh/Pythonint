{
 "cells": [
  {
   "cell_type": "markdown",
   "metadata": {},
   "source": [
    "**Titanic Survival Prediction (using Random Forest)**\n",
    "\n"
   ]
  },
  {
   "cell_type": "code",
   "execution_count": 12,
   "metadata": {},
   "outputs": [
    {
     "name": "stdout",
     "output_type": "stream",
     "text": [
      "Accuracy: 0.8212\n",
      "Classification Report:\n",
      "               precision    recall  f1-score   support\n",
      "\n",
      "           0       0.83      0.88      0.85       105\n",
      "           1       0.81      0.74      0.77        74\n",
      "\n",
      "    accuracy                           0.82       179\n",
      "   macro avg       0.82      0.81      0.81       179\n",
      "weighted avg       0.82      0.82      0.82       179\n",
      "\n"
     ]
    }
   ],
   "source": [
    "# Importing required libraries\n",
    "import pandas as pd\n",
    "from sklearn.model_selection import train_test_split\n",
    "from sklearn.ensemble import RandomForestClassifier\n",
    "from sklearn.metrics import accuracy_score, classification_report\n",
    "\n",
    "# Load Titanic dataset\n",
    "# Make sure to update the file path with the location of the Titanic dataset on your machine.\n",
    "titanic_file_path = 'Titanic.csv'  # Update this path to your Titanic CSV file\n",
    "titanic_df = pd.read_csv(titanic_file_path)\n",
    "\n",
    "# Display the first few rows of the dataset to understand its structure (optional).\n",
    "# print(titanic_df.head())\n",
    "\n",
    "# Step 1: Handling missing values\n",
    "# # The 'age' column has some missing values, we'll fill these with the median age.\n",
    "# # The 'embarked' column also has missing values, we'll fill these with the mode (most common embarkation point).\n",
    "# titanic_df['age'].fillna(titanic_df['age'].median(), inplace=True)\n",
    "# titanic_df['embarked'].fillna(titanic_df['embarked'].mode()[0], inplace=True)\n",
    "\n",
    "# Handling missing values without the inplace=True parameter\n",
    "# Assign the result of fillna() back to the DataFrame to avoid FutureWarnings\n",
    "titanic_df['age'] = titanic_df['age'].fillna(titanic_df['age'].median())  # Replace missing ages with the median\n",
    "titanic_df['embarked'] = titanic_df['embarked'].fillna(titanic_df['embarked'].mode()[0])  # Replace missing embarkation points with the mode\n",
    "\n",
    "\n",
    "# Step 2: Encoding categorical features\n",
    "# The columns 'sex', 'embarked', 'class', 'who', and 'alone' contain categorical data.\n",
    "# We need to convert them to numerical format because machine learning models can't work with strings.\n",
    "# We'll use one-hot encoding, which converts categories into binary columns.\n",
    "# For example, 'sex' will become two columns: 'sex_male' and 'sex_female', and we can drop one to avoid multicollinearity.\n",
    "titanic_df = pd.get_dummies(titanic_df, columns=['sex', 'embarked', 'class', 'who', 'alone'], drop_first=True)\n",
    "\n",
    "# Step 3: Define the feature matrix (X) and target variable (y)\n",
    "# X will contain all the features (input data), and y will contain the target ('survived' column).\n",
    "X_titanic = titanic_df.drop('survived', axis=1)  # Drop the 'survived' column to get the features\n",
    "y_titanic = titanic_df['survived']  # The target variable we are trying to predict\n",
    "\n",
    "# Step 4: Split the dataset into training and testing sets\n",
    "# We'll use 80% of the data for training and 20% for testing the model.\n",
    "X_train_titanic, X_test_titanic, y_train_titanic, y_test_titanic = train_test_split(X_titanic, y_titanic, test_size=0.2, random_state=42)\n",
    "\n",
    "# Step 5: Train a Random Forest Classifier\n",
    "# Random Forest is an ensemble method that builds multiple decision trees and averages their predictions.\n",
    "# It usually performs well for classification tasks like this.\n",
    "rf_model_titanic = RandomForestClassifier(random_state=42)  # Set random_state for reproducibility\n",
    "rf_model_titanic.fit(X_train_titanic, y_train_titanic)  # Fit the model on the training data\n",
    "\n",
    "# Step 6: Make predictions on the test set\n",
    "# Now that the model is trained, we'll use it to make predictions on the test data.\n",
    "y_pred_titanic = rf_model_titanic.predict(X_test_titanic)\n",
    "\n",
    "# Step 7: Evaluate the model\n",
    "# We'll use accuracy, precision, recall, and F1-score to evaluate how well the model performs.\n",
    "# Accuracy gives the overall correctness, while precision and recall help to evaluate the model's performance on each class (survived/didn't survive).\n",
    "accuracy_titanic = accuracy_score(y_test_titanic, y_pred_titanic)  # Calculate the accuracy of the model\n",
    "classification_report_titanic = classification_report(y_test_titanic, y_pred_titanic)  # Detailed classification report\n",
    "\n",
    "# Step 8: Print the results\n",
    "print(f\"Accuracy: {accuracy_titanic:.4f}\")  # Print accuracy with 4 decimal places\n",
    "print(\"Classification Report:\\n\", classification_report_titanic)  # Print the detailed classification report\n"
   ]
  }
 ],
 "metadata": {
  "kernelspec": {
   "display_name": "Python 3",
   "language": "python",
   "name": "python3"
  },
  "language_info": {
   "codemirror_mode": {
    "name": "ipython",
    "version": 3
   },
   "file_extension": ".py",
   "mimetype": "text/x-python",
   "name": "python",
   "nbconvert_exporter": "python",
   "pygments_lexer": "ipython3",
   "version": "3.12.3"
  }
 },
 "nbformat": 4,
 "nbformat_minor": 2
}
