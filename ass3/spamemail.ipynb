{
 "cells": [
  {
   "cell_type": "markdown",
   "metadata": {},
   "source": [
    "**Spam Email Classification (using Naive Bayes)**"
   ]
  },
  {
   "cell_type": "code",
   "execution_count": 3,
   "metadata": {},
   "outputs": [
    {
     "name": "stdout",
     "output_type": "stream",
     "text": [
      "Accuracy: 0.9227\n",
      "Classification Report:\n",
      "               precision    recall  f1-score   support\n",
      "\n",
      "           0       0.90      1.00      0.95       742\n",
      "           1       1.00      0.73      0.84       293\n",
      "\n",
      "    accuracy                           0.92      1035\n",
      "   macro avg       0.95      0.86      0.90      1035\n",
      "weighted avg       0.93      0.92      0.92      1035\n",
      "\n"
     ]
    }
   ],
   "source": [
    "# Importing required libraries\n",
    "import pandas as pd\n",
    "from sklearn.model_selection import train_test_split\n",
    "from sklearn.feature_extraction.text import TfidfVectorizer\n",
    "from sklearn.naive_bayes import MultinomialNB\n",
    "from sklearn.metrics import accuracy_score, classification_report\n",
    "\n",
    "# Load Spam dataset\n",
    "# Make sure to update the file path with the location of the Spam dataset on your machine.\n",
    "spam_file_path = 'spam_ham_dataset.csv'  # Update this path to your Spam CSV file\n",
    "spam_df = pd.read_csv(spam_file_path)\n",
    "\n",
    "# Step 1: Drop irrelevant columns (like 'Unnamed: 0')\n",
    "# Sometimes datasets include columns that are just indices or irrelevant information.\n",
    "# We'll remove such a column (if it exists) to focus only on the necessary data.\n",
    "spam_df.drop('Unnamed: 0', axis=1, inplace=True)\n",
    "\n",
    "# Step 2: Text Preprocessing\n",
    "# The text column contains the email content, which is in raw format.\n",
    "# We'll use the TF-IDF (Term Frequency-Inverse Document Frequency) vectorizer to convert text data into numerical values.\n",
    "# This method gives more weight to important words and downplays frequent but non-informative words (like 'the', 'and', etc.).\n",
    "tfidf = TfidfVectorizer(stop_words='english', max_df=0.95)  # Remove stop words and ignore words appearing in over 95% of emails\n",
    "X_spam = tfidf.fit_transform(spam_df['text'])  # Convert text into a matrix of TF-IDF features\n",
    "\n",
    "# Step 3: Define the target variable\n",
    "# The 'label_num' column contains the labels: 1 for spam and 0 for ham (not spam).\n",
    "y_spam = spam_df['label_num']  # Target variable (spam or ham)\n",
    "\n",
    "# Step 4: Split the dataset into training and testing sets\n",
    "# Again, we'll use 80% of the data for training and 20% for testing.\n",
    "X_train_spam, X_test_spam, y_train_spam, y_test_spam = train_test_split(X_spam, y_spam, test_size=0.2, random_state=42)\n",
    "\n",
    "# Step 5: Train a Naive Bayes classifier\n",
    "# Naive Bayes is a probabilistic classifier that works well with text data.\n",
    "# We'll use MultinomialNB, which is specifically designed for classification with word counts or frequencies.\n",
    "nb_model_spam = MultinomialNB()  # Create a Multinomial Naive Bayes model\n",
    "nb_model_spam.fit(X_train_spam, y_train_spam)  # Train the model on the training data\n",
    "\n",
    "# Step 6: Make predictions on the test set\n",
    "# We'll now use the trained model to make predictions on the test data.\n",
    "y_pred_spam = nb_model_spam.predict(X_test_spam)\n",
    "\n",
    "# Step 7: Evaluate the model\n",
    "# We'll evaluate the model's performance using accuracy, precision, recall, and F1-score.\n",
    "accuracy_spam = accuracy_score(y_test_spam, y_pred_spam)  # Calculate the accuracy\n",
    "classification_report_spam = classification_report(y_test_spam, y_pred_spam)  # Detailed classification report\n",
    "\n",
    "# Step 8: Print the results\n",
    "print(f\"Accuracy: {accuracy_spam:.4f}\")  # Print accuracy with 4 decimal places\n",
    "print(\"Classification Report:\\n\", classification_report_spam)  # Print the detailed classification report\n"
   ]
  }
 ],
 "metadata": {
  "kernelspec": {
   "display_name": "Python 3",
   "language": "python",
   "name": "python3"
  },
  "language_info": {
   "codemirror_mode": {
    "name": "ipython",
    "version": 3
   },
   "file_extension": ".py",
   "mimetype": "text/x-python",
   "name": "python",
   "nbconvert_exporter": "python",
   "pygments_lexer": "ipython3",
   "version": "3.12.3"
  }
 },
 "nbformat": 4,
 "nbformat_minor": 2
}
